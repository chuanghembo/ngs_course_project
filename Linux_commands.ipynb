{
  "nbformat": 4,
  "nbformat_minor": 0,
  "metadata": {
    "colab": {
      "provenance": []
    },
    "kernelspec": {
      "name": "python3",
      "display_name": "Python 3"
    },
    "language_info": {
      "name": "python"
    }
  },
  "cells": [
    {
      "cell_type": "markdown",
      "source": [
        "# Commands for NGS project"
      ],
      "metadata": {
        "id": "vjVanG0k7nCQ"
      }
    },
    {
      "cell_type": "markdown",
      "source": [
        "# Preprocessing"
      ],
      "metadata": {
        "id": "5F7f-q2xzUbY"
      }
    },
    {
      "cell_type": "markdown",
      "source": [
        "Prefix for nice"
      ],
      "metadata": {
        "id": "8uKiRkfk1rMJ"
      }
    },
    {
      "cell_type": "code",
      "source": [
        "nice -n 19"
      ],
      "metadata": {
        "id": "1Mctt51q1t0D"
      },
      "execution_count": null,
      "outputs": []
    },
    {
      "cell_type": "markdown",
      "source": [
        "Using fastqc to get an anlaysis to the Fastq file"
      ],
      "metadata": {
        "id": "RA9VRftk1ORo"
      }
    },
    {
      "cell_type": "code",
      "source": [
        "parallel fastqc ::: [INPUT FASTQ GZ FILE 1] [INPUT FASTQ GZ FILE 2]"
      ],
      "metadata": {
        "id": "PlRf_Yk-1K9H"
      },
      "execution_count": null,
      "outputs": []
    },
    {
      "cell_type": "markdown",
      "source": [
        "Filtering data according to different filters using trimmomatic\n",
        "\n",
        "Option | Effect\n",
        "------ | ------\n",
        "ILLUMINACLIP   | \tThe sequence of the adapters, the remaining numbers are sensitivity thresholds (see software manual for the exact definitions)\n",
        "  LEADING      | Remove the bases at the 5' end when the QC scores fall below this threshold.\n",
        "  TRAILING    | Remove the bases at the 3' end when the QC scores fall below this threshold.\n",
        "  SLIDINGWINDOW | Remove bases using a sliding window strategy, the first number is the window size, the second number is the quality score.\n",
        "  MINLEN | minimum length for a sequence.\n"
      ],
      "metadata": {
        "id": "LHfITIT41BGF"
      }
    },
    {
      "cell_type": "code",
      "execution_count": null,
      "metadata": {
        "id": "W6fslKZhy6Hg"
      },
      "outputs": [],
      "source": [
        "java -jar /home/ctools/Trimmomatic-0.39/trimmomatic-0.39.jar SE -threads 1 -phred33  \\\n",
        "[INPUT FASTQ GZ] [OUTPUT FASTQ GZ]  ILLUMINACLIP:/usr/share/trimmomatic/TruSeq2-PE.fa:2:30:10  \\\n",
        "LEADING:15 TRAILING:15 SLIDINGWINDOW:5:15 MINLEN:50"
      ]
    },
    {
      "cell_type": "markdown",
      "source": [
        "# Alignment"
      ],
      "metadata": {
        "id": "9gEwBE9p7vP2"
      }
    },
    {
      "cell_type": "markdown",
      "source": [
        "Align to the reference genome (for multiplexing we can add the -R option)"
      ],
      "metadata": {
        "id": "6xKOm8cv77Cs"
      }
    },
    {
      "cell_type": "code",
      "source": [
        "bwa index [REF FASTA] # only once to create bwa index\n",
        "bwa mem (-R \"@RG\\tID:RG38\\tSM:SMPL20\") [REF FASTA]  [INPUT FASTQ GZ] | samtools view -bS > [OUTPUT BAM]\n",
        "# Sorting and indexing at same time\n",
        "samtools sort --threads=4 --write-index [OUTPUT BAM] -o [OUTPUT SORTED BAM]"
      ],
      "metadata": {
        "id": "SctUhSFE75my"
      },
      "execution_count": null,
      "outputs": []
    },
    {
      "cell_type": "markdown",
      "source": [
        "Merging bam file (optional) and writing index"
      ],
      "metadata": {
        "id": "Ko38hJkl90fz"
      }
    },
    {
      "cell_type": "code",
      "source": [
        "samtools merge -c --write-index [OUTPUT SORTED BAM] [INPUT SORTED BAM 1] [INPUT SORTED BAM 2]"
      ],
      "metadata": {
        "id": "FQFFuLJ793Ds"
      },
      "execution_count": null,
      "outputs": []
    },
    {
      "cell_type": "markdown",
      "source": [
        "Read Counting"
      ],
      "metadata": {
        "id": "0ufvFDy0eTep"
      }
    },
    {
      "cell_type": "code",
      "source": [
        "featureCounts -T 16 -a <annotation_file> -o <output_file>.tsv input_file_sample1.bam input_file_sample2.bam ..."
      ],
      "metadata": {
        "id": "eQgkCaXSeSmO"
      },
      "execution_count": null,
      "outputs": []
    },
    {
      "cell_type": "markdown",
      "source": [
        "Converting to count matrix"
      ],
      "metadata": {
        "id": "FYwyxse3qalV"
      }
    },
    {
      "cell_type": "code",
      "source": [
        "cat featureCountOutput.tsv | sed 1d | cut -f1,7- | less -S | sed -e 's\\header_name_old\\head_name_new' ... > CountMatrix.tsv"
      ],
      "metadata": {
        "id": "LBy9RbC8qZtp"
      },
      "execution_count": null,
      "outputs": []
    },
    {
      "cell_type": "markdown",
      "source": [
        "Annotating the genes --> Find a way (maybe ask)"
      ],
      "metadata": {
        "id": "UEap7Fq7A59a"
      }
    },
    {
      "cell_type": "code",
      "source": [
        "bedtools intersect -a [INPUT GFF FILE] -b [INPUT BAM FILE] > [OUTPUT OVERLAP]"
      ],
      "metadata": {
        "id": "6T4VJZdCHCAi"
      },
      "execution_count": null,
      "outputs": []
    },
    {
      "cell_type": "markdown",
      "source": [
        "# Pseudo allignment"
      ],
      "metadata": {
        "id": "4ULYaCXXKNDq"
      }
    },
    {
      "cell_type": "markdown",
      "source": [
        "-l and -s are estimated average length fragment and estimated standard deviation (required for single end)"
      ],
      "metadata": {
        "id": "Moxk8KRZOeMF"
      }
    },
    {
      "cell_type": "code",
      "source": [
        "# To estimate -s and -l\n",
        "zcat [INPUT FASTQ GZ] | awk '{if(NR%4==2) print length($1)}' | sort -n | uniq -c > [OUTPUT TXT] # Counting the different read lengths\n",
        "# Returning the SD and MEAN (you can pipe the two commands)\n",
        "cat [OUTPUT TXT] | awk '{sum += $1 * $2; sumsq += $1 * $2 * $2; freq += $1} END {print \"Mean:\", sum / freq; print \"Standard deviation:\", sqrt (sumsq / freq - (sum / freq)^2)}'"
      ],
      "metadata": {
        "id": "fxJH8RirEo41"
      },
      "execution_count": null,
      "outputs": []
    },
    {
      "cell_type": "code",
      "source": [
        "# First index (pseudoalignment) with reference transcriptome FASTA file\n",
        "/home/ctools/kallisto/build/src/kallisto index -i [OUTPUT INDEX] [FASTA FILE]\n",
        "# Use kallisto to quantify\n",
        "/home/ctools/kallisto/build/src/kallisto quant -i [OUTPUT INDEX] -o [OUTPUT RDATA] --single -l 2 -s 76 [FASTQ GZ INPUT]"
      ],
      "metadata": {
        "id": "iixxsMAYKMdm"
      },
      "execution_count": null,
      "outputs": []
    }
  ]
}